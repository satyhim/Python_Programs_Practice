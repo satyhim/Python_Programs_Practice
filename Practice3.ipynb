{
  "nbformat": 4,
  "nbformat_minor": 0,
  "metadata": {
    "colab": {
      "name": "Untitled56.ipynb",
      "provenance": [],
      "authorship_tag": "ABX9TyPj6SJX2kS2EbaUU+KNEp+x",
      "include_colab_link": true
    },
    "kernelspec": {
      "name": "python3",
      "display_name": "Python 3"
    },
    "language_info": {
      "name": "python"
    }
  },
  "cells": [
    {
      "cell_type": "markdown",
      "metadata": {
        "id": "view-in-github",
        "colab_type": "text"
      },
      "source": [
        "<a href=\"https://colab.research.google.com/github/satyhim/Python_Programs_Practice/blob/main/Practice3.ipynb\" target=\"_parent\"><img src=\"https://colab.research.google.com/assets/colab-badge.svg\" alt=\"Open In Colab\"/></a>"
      ]
    },
    {
      "cell_type": "markdown",
      "source": [
        "# Factorial Calculation"
      ],
      "metadata": {
        "id": "g-zK14-xj_h_"
      }
    },
    {
      "cell_type": "code",
      "execution_count": 1,
      "metadata": {
        "colab": {
          "base_uri": "https://localhost:8080/"
        },
        "id": "jSLdbG3Fj2uc",
        "outputId": "85e3ac57-187f-4820-a697-c27495097954"
      },
      "outputs": [
        {
          "output_type": "stream",
          "name": "stdout",
          "text": [
            "Enter a number: 4\n",
            "The factorial of 4 is 24\n"
          ]
        }
      ],
      "source": [
        "num = int(input(\"Enter a number: \"))    \n",
        "factorial = 1    \n",
        "if num < 0:    \n",
        "   print(\" Factorial does not exist for negative numbers\")    \n",
        "elif num == 0:    \n",
        "   print(\"The factorial of 0 is 1\")    \n",
        "else:    \n",
        "   for i in range(1,num + 1):    \n",
        "       factorial = factorial*i    \n",
        "   print(\"The factorial of\",num,\"is\",factorial)    "
      ]
    },
    {
      "cell_type": "markdown",
      "source": [
        "# Python Program to Check if a Number is Odd or Even"
      ],
      "metadata": {
        "id": "-OeO0TW_kJ7V"
      }
    },
    {
      "cell_type": "code",
      "source": [
        "num = int(input(\"Enter a number: \"))  \n",
        "if (num % 2) == 0:  \n",
        "   print(\"{0} is Even number\".format(num))  \n",
        "else:  \n",
        "   print(\"{0} is Odd number\".format(num)) "
      ],
      "metadata": {
        "colab": {
          "base_uri": "https://localhost:8080/"
        },
        "id": "heSl9CqakNqQ",
        "outputId": "978b3a3d-a9ef-4efa-9ede-c185a6aea888"
      },
      "execution_count": 3,
      "outputs": [
        {
          "output_type": "stream",
          "name": "stdout",
          "text": [
            "Enter a number: 5\n",
            "5 is Odd number\n"
          ]
        }
      ]
    },
    {
      "cell_type": "markdown",
      "source": [
        "#Python Program to Check Prime Number\n",
        "\n",
        "If the natural number is greater than 1 and having no positive divisors other than 1 and the number itself etc.\n",
        "\n",
        "For example: 3, 7, 11 etc are prime numbers."
      ],
      "metadata": {
        "id": "DJNJzbPVka_f"
      }
    },
    {
      "cell_type": "code",
      "source": [
        "# A default function for Prime checking conditions  \n",
        "def PrimeChecker(a):  \n",
        "    # Checking that given number is more than 1  \n",
        "    if a > 1:  \n",
        "        # Iterating over the given number with for loop  \n",
        "        for j in range(2, int(a/2) + 1):  \n",
        "            # If the given number is divisible or not  \n",
        "            if (a % j) == 0:  \n",
        "                print(a, \"is not a prime number\")  \n",
        "                break  \n",
        "        # Else it is a prime number  \n",
        "        else:  \n",
        "            print(a, \"is a prime number\")  \n",
        "    # If the given number is 1  \n",
        "    else:  \n",
        "        print(a, \"is not a prime number\")  \n",
        "# Taking an input number from the user  \n",
        "a = int(input(\"Enter an input number:\"))  \n",
        "# Printing result  \n",
        "PrimeChecker(a)  "
      ],
      "metadata": {
        "colab": {
          "base_uri": "https://localhost:8080/"
        },
        "id": "tLTUChRLkgk4",
        "outputId": "bdeaed0e-81c5-4120-cb24-76e0d1fe2ad2"
      },
      "execution_count": 4,
      "outputs": [
        {
          "output_type": "stream",
          "name": "stdout",
          "text": [
            "Enter an input number:10\n",
            "10 is not a prime number\n"
          ]
        }
      ]
    },
    {
      "cell_type": "markdown",
      "source": [
        "#Python Program to Find the Sum of Natural Numbers\n",
        "\n",
        "As the name specifies, a natural number is the number that occurs commonly and obviously in the nature. It is a whole, non-negative number.\n"
      ],
      "metadata": {
        "id": "gIM0gY-GlGJQ"
      }
    },
    {
      "cell_type": "code",
      "source": [
        "num = int(input(\"Enter a number: \"))  \n",
        "  \n",
        "if num < 0:  \n",
        "   print(\"Enter a positive number\")  \n",
        "else:  \n",
        "   sum = 0  \n",
        "   # use while loop to iterate un till zero  \n",
        "   while(num > 0):  \n",
        "       sum += num  \n",
        "       num -= 1  \n",
        "   print(\"The sum is\",sum)  "
      ],
      "metadata": {
        "colab": {
          "base_uri": "https://localhost:8080/"
        },
        "id": "K-QagbP9lQ9f",
        "outputId": "e7dc6540-ff9b-48ef-d545-8327bf3a3b57"
      },
      "execution_count": 5,
      "outputs": [
        {
          "output_type": "stream",
          "name": "stdout",
          "text": [
            "Enter a number: 10\n",
            "The sum is 55\n"
          ]
        }
      ]
    }
  ]
}