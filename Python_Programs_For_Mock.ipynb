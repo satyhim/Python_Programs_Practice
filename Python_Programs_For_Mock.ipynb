{
  "nbformat": 4,
  "nbformat_minor": 0,
  "metadata": {
    "colab": {
      "name": "Untitled79.ipynb",
      "provenance": [],
      "authorship_tag": "ABX9TyMjroViAl93w4WHAQFMiFQ8",
      "include_colab_link": true
    },
    "kernelspec": {
      "name": "python3",
      "display_name": "Python 3"
    },
    "language_info": {
      "name": "python"
    }
  },
  "cells": [
    {
      "cell_type": "markdown",
      "metadata": {
        "id": "view-in-github",
        "colab_type": "text"
      },
      "source": [
        "<a href=\"https://colab.research.google.com/github/satyhim/Python_Programs_Practice/blob/main/Python_Programs_For_Mock.ipynb\" target=\"_parent\"><img src=\"https://colab.research.google.com/assets/colab-badge.svg\" alt=\"Open In Colab\"/></a>"
      ]
    },
    {
      "cell_type": "markdown",
      "source": [
        "***Q1. Write a program to check if the word 'orange' is present in the \"This is orange juice\"***"
      ],
      "metadata": {
        "id": "-g8nbXZrF0F5"
      }
    },
    {
      "cell_type": "code",
      "source": [
        "def isWordPresent(sentence, word):\n",
        "     \n",
        "    # To break the sentence in words\n",
        "    s = sentence.split(\" \")\n",
        " \n",
        "    for i in s:\n",
        " \n",
        "        # Comparing the current word\n",
        "        # with the word to be searched\n",
        "        if (i == word):\n",
        "            return True\n",
        "    return False\n",
        " \n",
        "# Driver code\n",
        "s = \"Geeks for Geeks\"\n",
        "word = \"Geeks\"\n",
        " \n",
        "if (isWordPresent(s, word)):\n",
        "    print(\"Yes\")\n",
        "else:\n",
        "    print(\"No\")"
      ],
      "metadata": {
        "colab": {
          "base_uri": "https://localhost:8080/"
        },
        "id": "EkQrHCbhGE9Q",
        "outputId": "75401a5d-0d06-4a77-bc17-f98811265c82"
      },
      "execution_count": 2,
      "outputs": [
        {
          "output_type": "stream",
          "name": "stdout",
          "text": [
            "Yes\n"
          ]
        }
      ]
    },
    {
      "cell_type": "code",
      "source": [],
      "metadata": {
        "id": "cGCqnfKAGHqO"
      },
      "execution_count": null,
      "outputs": []
    },
    {
      "cell_type": "code",
      "execution_count": 3,
      "metadata": {
        "colab": {
          "base_uri": "https://localhost:8080/"
        },
        "id": "QF5ACHITFzUc",
        "outputId": "2a595232-7f5f-463b-dfa1-410919dc37f6"
      },
      "outputs": [
        {
          "output_type": "stream",
          "name": "stdout",
          "text": [
            "Yes\n"
          ]
        }
      ],
      "source": [
        "def isWordPresent(sentence, word):\n",
        "     \n",
        "    s = sentence.split(\" \")\n",
        " \n",
        "    for i in s:\n",
        "        if (i == word):\n",
        "            return True\n",
        "    return False\n",
        " \n",
        "s = \"This is orange juice\"\n",
        "word = \"orange\"\n",
        " \n",
        "if (isWordPresent(s, word)):\n",
        "    print(\"Yes\")\n",
        "else:\n",
        "    print(\"No\")"
      ]
    },
    {
      "cell_type": "markdown",
      "source": [
        "***Q2. Write a program to find the length of the string \"machine learning\" with and\n",
        "without using len function***"
      ],
      "metadata": {
        "id": "ryXByJHHGjJg"
      }
    },
    {
      "cell_type": "markdown",
      "source": [
        "**With len function:**"
      ],
      "metadata": {
        "id": "4CdPI2sAGrh_"
      }
    },
    {
      "cell_type": "code",
      "source": [
        "str='machine learning'\n",
        "len(str)"
      ],
      "metadata": {
        "colab": {
          "base_uri": "https://localhost:8080/"
        },
        "id": "eZZXL3ZmGo9g",
        "outputId": "bd69386e-dc03-4d28-c6ab-60549613207c"
      },
      "execution_count": 6,
      "outputs": [
        {
          "output_type": "execute_result",
          "data": {
            "text/plain": [
              "16"
            ]
          },
          "metadata": {},
          "execution_count": 6
        }
      ]
    },
    {
      "cell_type": "markdown",
      "source": [
        "**Without len function:**"
      ],
      "metadata": {
        "id": "k3XvlrnRIeon"
      }
    },
    {
      "cell_type": "code",
      "source": [
        "# using while loop.\n",
        " \n",
        "# Returns length of string\n",
        "def findLen(str):\n",
        "    counter = 0\n",
        "    while str[counter:]:\n",
        "        counter += 1\n",
        "    return counter\n",
        " \n",
        "str = \"machine learning\"\n",
        "print(findLen(str))"
      ],
      "metadata": {
        "colab": {
          "base_uri": "https://localhost:8080/"
        },
        "id": "bTRU9F5QIgpf",
        "outputId": "f1f69efe-e8b5-49f5-c716-db784eb5d156"
      },
      "execution_count": 7,
      "outputs": [
        {
          "output_type": "stream",
          "name": "stdout",
          "text": [
            "16\n"
          ]
        }
      ]
    },
    {
      "cell_type": "code",
      "source": [
        "# using for loop\n",
        " \n",
        "# Returns length of string\n",
        "def findLen(str):\n",
        "    counter = 0   \n",
        "    for i in str:\n",
        "        counter += 1\n",
        "    return counter\n",
        " \n",
        " \n",
        "str = \"machine learning\"\n",
        "print(findLen(str))"
      ],
      "metadata": {
        "colab": {
          "base_uri": "https://localhost:8080/"
        },
        "id": "m_7rS2ejIqGP",
        "outputId": "41ffa28c-7f19-4eb2-ce9a-3fd04e09990e"
      },
      "execution_count": 8,
      "outputs": [
        {
          "output_type": "stream",
          "name": "stdout",
          "text": [
            "16\n"
          ]
        }
      ]
    }
  ]
}